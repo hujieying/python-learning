{
 "cells": [
  {
   "cell_type": "markdown",
   "metadata": {},
   "source": [
    "## 1 初识Python"
   ]
  },
  {
   "cell_type": "markdown",
   "metadata": {},
   "source": [
    "### 创建简单的列表"
   ]
  },
  {
   "cell_type": "code",
   "execution_count": 7,
   "metadata": {},
   "outputs": [
    {
     "name": "stdout",
     "output_type": "stream",
     "text": [
      "['Cleese', 'Palin', 'Jones', 'Idle']\n"
     ]
    }
   ],
   "source": [
    "cast = [\"Cleese\", \"Palin\", \"Jones\", \"Idle\"]\n",
    "print(cast)"
   ]
  },
  {
   "cell_type": "code",
   "execution_count": 6,
   "metadata": {},
   "outputs": [
    {
     "name": "stdout",
     "output_type": "stream",
     "text": [
      "4\n"
     ]
    }
   ],
   "source": [
    "print(len(cast))"
   ]
  },
  {
   "cell_type": "code",
   "execution_count": 8,
   "metadata": {},
   "outputs": [
    {
     "name": "stdout",
     "output_type": "stream",
     "text": [
      "Palin\n"
     ]
    }
   ],
   "source": [
    "print(cast[1])"
   ]
  },
  {
   "cell_type": "code",
   "execution_count": 9,
   "metadata": {},
   "outputs": [
    {
     "name": "stdout",
     "output_type": "stream",
     "text": [
      "['Cleese', 'Palin', 'Jones', 'Idle', 'Gilliam']\n"
     ]
    }
   ],
   "source": [
    "cast.append(\"Gilliam\")\n",
    "print(cast)"
   ]
  },
  {
   "cell_type": "code",
   "execution_count": 10,
   "metadata": {},
   "outputs": [
    {
     "data": {
      "text/plain": [
       "'Gilliam'"
      ]
     },
     "execution_count": 10,
     "metadata": {},
     "output_type": "execute_result"
    }
   ],
   "source": [
    "cast.pop()"
   ]
  },
  {
   "cell_type": "code",
   "execution_count": 11,
   "metadata": {},
   "outputs": [
    {
     "name": "stdout",
     "output_type": "stream",
     "text": [
      "['Cleese', 'Palin', 'Jones', 'Idle']\n"
     ]
    }
   ],
   "source": [
    "print(cast)"
   ]
  },
  {
   "cell_type": "code",
   "execution_count": 12,
   "metadata": {},
   "outputs": [
    {
     "name": "stdout",
     "output_type": "stream",
     "text": [
      "['Cleese', 'Palin', 'Jones', 'Idle', 'Gilliam', 'Chapman']\n"
     ]
    }
   ],
   "source": [
    "cast.extend([\"Gilliam\", \"Chapman\"])\n",
    "print(cast)"
   ]
  },
  {
   "cell_type": "code",
   "execution_count": 13,
   "metadata": {},
   "outputs": [
    {
     "name": "stdout",
     "output_type": "stream",
     "text": [
      "['Cleese', 'Palin', 'Jones', 'Idle', 'Gilliam']\n"
     ]
    }
   ],
   "source": [
    "cast.remove(\"Chapman\")\n",
    "print(cast)"
   ]
  },
  {
   "cell_type": "code",
   "execution_count": 14,
   "metadata": {},
   "outputs": [
    {
     "name": "stdout",
     "output_type": "stream",
     "text": [
      "['Chapman', 'Cleese', 'Palin', 'Jones', 'Idle', 'Gilliam']\n"
     ]
    }
   ],
   "source": [
    "cast.insert(0, \"Chapman\")\n",
    "print(cast)"
   ]
  },
  {
   "cell_type": "markdown",
   "metadata": {},
   "source": [
    "### 处理列表数据"
   ]
  },
  {
   "cell_type": "code",
   "execution_count": 16,
   "metadata": {},
   "outputs": [
    {
     "name": "stdout",
     "output_type": "stream",
     "text": [
      "The holy grail\n",
      "the life of brian\n",
      "harry potter\n"
     ]
    }
   ],
   "source": [
    "# 这里使用了for循环来显示列表中的所有值\n",
    "fav_movies = [\"The holy grail\", \"the life of brian\", \"harry potter\"]\n",
    "\n",
    "for each_flick in fav_movies:\n",
    "    print(each_flick)"
   ]
  },
  {
   "cell_type": "code",
   "execution_count": 18,
   "metadata": {},
   "outputs": [
    {
     "name": "stdout",
     "output_type": "stream",
     "text": [
      "The holy grail\n",
      "the life of brian\n",
      "harry potter\n"
     ]
    }
   ],
   "source": [
    "# 除了for循环也可以使用while循环，但稍微复杂一些\n",
    "movies = [\"The holy grail\", \"the life of brian\", \"harry potter\"]\n",
    "\n",
    "count = 0\n",
    "while count < len(fav_movies):\n",
    "    print(movies[count])\n",
    "    count = count+1"
   ]
  },
  {
   "cell_type": "markdown",
   "metadata": {},
   "source": [
    "### 在列表中存储列表"
   ]
  },
  {
   "cell_type": "code",
   "execution_count": 20,
   "metadata": {},
   "outputs": [
    {
     "name": "stdout",
     "output_type": "stream",
     "text": [
      "['the holy grail', 1975, 'terry jones & terry gilliam', 91, ['graham chapman', ['michael palin', 'john cleese', 'terry gilliam', 'eric idle', 'terry jones']]]\n",
      "the holy grail\n",
      "1975\n",
      "terry jones & terry gilliam\n",
      "91\n",
      "['graham chapman', ['michael palin', 'john cleese', 'terry gilliam', 'eric idle', 'terry jones']]\n"
     ]
    }
   ],
   "source": [
    "movies = [\"the holy grail\", 1975, \"terry jones & terry gilliam\", 91,\n",
    "          [\"graham chapman\", [\"michael palin\", \"john cleese\",\n",
    "                             \"terry gilliam\", \"eric idle\", \"terry jones\"]]]\n",
    "print(movies)\n",
    "\n",
    "for each_item in movies:\n",
    "    print(each_item)"
   ]
  },
  {
   "cell_type": "markdown",
   "metadata": {},
   "source": [
    "### 在列表中查找列表"
   ]
  },
  {
   "cell_type": "code",
   "execution_count": 22,
   "metadata": {},
   "outputs": [
    {
     "data": {
      "text/plain": [
       "True"
      ]
     },
     "execution_count": 22,
     "metadata": {},
     "output_type": "execute_result"
    }
   ],
   "source": [
    "names = [\"michael\", 'terry']\n",
    "isinstance(names, list)"
   ]
  },
  {
   "cell_type": "code",
   "execution_count": 23,
   "metadata": {},
   "outputs": [
    {
     "data": {
      "text/plain": [
       "False"
      ]
     },
     "execution_count": 23,
     "metadata": {},
     "output_type": "execute_result"
    }
   ],
   "source": [
    "num_names = len(names)\n",
    "isinstance(num_names, list)"
   ]
  },
  {
   "cell_type": "code",
   "execution_count": 2,
   "metadata": {},
   "outputs": [
    {
     "name": "stdout",
     "output_type": "stream",
     "text": [
      "the holy grail\n",
      "1975\n",
      "terry jones & terry gilliam\n",
      "91\n",
      "graham chapman\n",
      "['michael palin', 'john cleese', 'terry gilliam', 'eric idle', 'terry jones']\n"
     ]
    }
   ],
   "source": [
    "movies = [\"the holy grail\", 1975, \"terry jones & terry gilliam\", 91,\n",
    "          [\"graham chapman\", [\"michael palin\", \"john cleese\",\n",
    "                             \"terry gilliam\", \"eric idle\", \"terry jones\"]]]\n",
    "\n",
    "for each_item in movies:\n",
    "    if isinstance(each_item, list):\n",
    "        for nested_item in each_item:\n",
    "            print(nested_item)\n",
    "    else:\n",
    "        print(each_item)"
   ]
  },
  {
   "cell_type": "markdown",
   "metadata": {},
   "source": [
    "### 在python中创建一个函数"
   ]
  },
  {
   "cell_type": "code",
   "execution_count": 8,
   "metadata": {},
   "outputs": [
    {
     "name": "stdout",
     "output_type": "stream",
     "text": [
      "the holy grail\n",
      "1975\n",
      "terry jones & terry gilliam\n",
      "91\n",
      "graham chapman\n",
      "michael palin\n",
      "john cleese\n",
      "terry gilliam\n",
      "eric idle\n",
      "terry jones\n"
     ]
    }
   ],
   "source": [
    "movies = [\"the holy grail\", 1975, \"terry jones & terry gilliam\", 91,\n",
    "          [\"graham chapman\", [\"michael palin\", \"john cleese\",\n",
    "                             \"terry gilliam\", \"eric idle\", \"terry jones\"]]]\n",
    "\n",
    "def print_lol(the_list):\n",
    "    for each_item in the_list:\n",
    "        if isinstance(each_item, list):\n",
    "            print_lol(each_item)\n",
    "        else:\n",
    "            print(each_item)\n",
    "            \n",
    "print_lol(movies)"
   ]
  },
  {
   "cell_type": "markdown",
   "metadata": {},
   "source": [
    "## 2 共享你的代码"
   ]
  },
  {
   "cell_type": "code",
   "execution_count": 12,
   "metadata": {},
   "outputs": [
    {
     "name": "stdout",
     "output_type": "stream",
     "text": [
      "the holy grail\n",
      "1975\n",
      "terry jones & terry gilliam\n",
      "91\n",
      "\tgraham chapman\n",
      "\t\tmichael palin\n",
      "\t\tjohn cleese\n",
      "\t\tterry gilliam\n",
      "\t\teric idle\n",
      "\t\tterry jones\n"
     ]
    }
   ],
   "source": [
    "movies = [\"the holy grail\", 1975, \"terry jones & terry gilliam\", 91,\n",
    "          [\"graham chapman\", [\"michael palin\", \"john cleese\",\n",
    "                             \"terry gilliam\", \"eric idle\", \"terry jones\"]]]\n",
    "\n",
    "def print_lol(the_list, level):\n",
    "    \"\"\"这个函数有一个位置参数，名为\"the_list\"，\n",
    "    这可以是任何python列表（包含或不包含嵌套列表），\n",
    "    所提供列表中的各个数据项会（递归地）打印到屏幕上，而且各占一行。\n",
    "    第二个参数（名为“level”）用来在遇到嵌套列表时插入制表符。\"\"\"\n",
    "    for each_item in the_list:\n",
    "        if isinstance(each_item, list):\n",
    "            print_lol(each_item, level+1)\n",
    "        else:\n",
    "            for tab_stop in range(level):\n",
    "                print(\"\\t\", end='')\n",
    "            print(each_item)\n",
    "            \n",
    "print_lol(movies,0)"
   ]
  },
  {
   "cell_type": "code",
   "execution_count": null,
   "metadata": {
    "collapsed": true
   },
   "outputs": [],
   "source": []
  },
  {
   "cell_type": "markdown",
   "metadata": {},
   "source": [
    "### 文件与异常"
   ]
  }
 ],
 "metadata": {
  "kernelspec": {
   "display_name": "Python 3",
   "language": "python",
   "name": "python3"
  },
  "language_info": {
   "codemirror_mode": {
    "name": "ipython",
    "version": 3
   },
   "file_extension": ".py",
   "mimetype": "text/x-python",
   "name": "python",
   "nbconvert_exporter": "python",
   "pygments_lexer": "ipython3",
   "version": "3.6.1"
  }
 },
 "nbformat": 4,
 "nbformat_minor": 2
}
